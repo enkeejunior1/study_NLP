{
 "cells": [
  {
   "cell_type": "code",
   "execution_count": 1,
   "id": "318def8e",
   "metadata": {},
   "outputs": [],
   "source": [
    "import torch\n",
    "import torch.nn as nn # for nn.Module\n",
    "import torch.nn.functional as F\n",
    "\n",
    "from torch.utils.data import Dataset\n",
    "from torchvision import datasets\n",
    "from torchvision.transforms import ToTensor\n",
    "\n",
    "import matplotlib.pyplot as plt\n",
    "import numpy as np"
   ]
  },
  {
   "cell_type": "code",
   "execution_count": null,
   "id": "bd1a32d7",
   "metadata": {},
   "outputs": [],
   "source": [
    "import datasets\n",
    "dataset_klue = datasets.load_dataset('klue', 'mrc')"
   ]
  },
  {
   "cell_type": "code",
   "execution_count": 4,
   "id": "efa7af0a",
   "metadata": {},
   "outputs": [],
   "source": [
    "import json\n",
    "import re\n",
    "\n",
    "with open('NIRW1900000011.json', 'r', encoding = 'utf-8') as data_json:\n",
    "    training_json = json.load(data_json)\n",
    "    \n",
    "with open('NWRW1800000045.json', 'r', encoding = 'utf-8') as data_json:\n",
    "    test1_json = json.load(data_json)\n",
    "    \n",
    "with open('EBRW1908000138.json', 'r', encoding = 'utf-8') as data_json:\n",
    "    test2_json = json.load(data_json)\n",
    "    \n",
    "# 읽은 json 데이터로부터 필요한 데이터만 추출하는 함수\n",
    "def extract_news_from_json(news_json):\n",
    "    news_document = news_json['document']\n",
    "    news_list = []\n",
    "\n",
    "    for idx in range(len(news_document)):\n",
    "        news = news_document[idx]\n",
    "        for par_idx in range(len(news['paragraph'])):\n",
    "            paragraph = news['paragraph'][par_idx]\n",
    "            news_list.append(paragraph['form'])\n",
    "\n",
    "    return (news_list)\n",
    "\n",
    "# 한글과 띄어쓰기만 남기고 전부 버리는 함수\n",
    "def extract_hangul_from_news(news_list):\n",
    "    news_hangul_list = []\n",
    "    hangulAndSpace = '[가-힣 ]'\n",
    "    \n",
    "    for news in news_list:\n",
    "        news_hangul = ''.join(re.findall(hangulAndSpace, news))\n",
    "        news_hangul_list.append(news_hangul)\n",
    "\n",
    "    return (news_hangul_list)"
   ]
  },
  {
   "cell_type": "code",
   "execution_count": 5,
   "id": "1679a906",
   "metadata": {},
   "outputs": [],
   "source": [
    "# 파일을 불러들어와 json파일을 파싱하여 필요한 텍스트를 추출\n",
    "training_news_list = extract_news_from_json(training_json)\n",
    "test1_news_list    = extract_news_from_json(test1_json)\n",
    "test2_news_list    = extract_news_from_json(test2_json)\n",
    "\n",
    "training_news_hangul_list = extract_hangul_from_news(training_news_list)\n",
    "test1_news_hangul_list    = extract_hangul_from_news(test1_news_list)\n",
    "test2_news_hangul_list    = extract_hangul_from_news(test2_news_list)"
   ]
  },
  {
   "cell_type": "code",
   "execution_count": 6,
   "id": "9742c31b",
   "metadata": {},
   "outputs": [],
   "source": [
    "dataset_assignment_dict = {'training' : training_news_hangul_list, \n",
    "                           'test1' : test1_news_hangul_list,\n",
    "                           'test2' : test2_news_hangul_list}"
   ]
  }
 ],
 "metadata": {
  "kernelspec": {
   "display_name": "Python 3",
   "language": "python",
   "name": "python3"
  },
  "language_info": {
   "codemirror_mode": {
    "name": "ipython",
    "version": 3
   },
   "file_extension": ".py",
   "mimetype": "text/x-python",
   "name": "python",
   "nbconvert_exporter": "python",
   "pygments_lexer": "ipython3",
   "version": "3.8.8"
  }
 },
 "nbformat": 4,
 "nbformat_minor": 5
}
