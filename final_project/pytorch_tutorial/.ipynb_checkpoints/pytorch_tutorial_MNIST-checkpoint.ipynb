{
 "cells": [
  {
   "cell_type": "code",
   "execution_count": 1,
   "id": "c7f5f345",
   "metadata": {},
   "outputs": [],
   "source": [
    "import torch\n",
    "import torch.nn as nn\n",
    "import torch.nn.functional as F\n",
    "import torch.optim as optim\n",
    "\n",
    "from torch.utils.data import DataLoader\n",
    "from torchvision import datasets\n",
    "from torchvision.transforms import ToTensor, Lambda, Compose\n",
    "\n",
    "is_available_cuda = torch.cuda.is_available()\n",
    "device = torch.device('cuda' if is_available_cuda else 'cpu')"
   ]
  },
  {
   "cell_type": "code",
   "execution_count": 2,
   "id": "eaf8a078",
   "metadata": {},
   "outputs": [
    {
     "name": "stderr",
     "output_type": "stream",
     "text": [
      "C:\\Users\\sungj\\anaconda3\\lib\\site-packages\\torchvision\\datasets\\mnist.py:498: UserWarning: The given NumPy array is not writeable, and PyTorch does not support non-writeable tensors. This means you can write to the underlying (supposedly non-writeable) NumPy array using the tensor. You may want to copy the array to protect its data or make it writeable before converting it to a tensor. This type of warning will be suppressed for the rest of this program. (Triggered internally at  ..\\torch\\csrc\\utils\\tensor_numpy.cpp:180.)\n",
      "  return torch.from_numpy(parsed.astype(m[2], copy=False)).view(*s)\n"
     ]
    }
   ],
   "source": [
    "mnist_train = datasets.MNIST(\n",
    "    root = '~/data',\n",
    "    train = True,\n",
    "    transform = ToTensor(), # need to review about torch.transform module\n",
    "    download = True\n",
    ")\n",
    "\n",
    "mnist_test = datasets.MNIST(\n",
    "    root = '~/data',\n",
    "    train = False,\n",
    "    transform = ToTensor(), # need to review about torch.transform module\n",
    "    download = True\n",
    ")"
   ]
  },
  {
   "cell_type": "code",
   "execution_count": 5,
   "id": "a53d9c71",
   "metadata": {},
   "outputs": [],
   "source": [
    "train_dataloader = DataLoader(mnist_train, batch_size=64, shuffle=True, drop_last = True)\n",
    "test_dataloader = DataLoader(mnist_test, batch_size=64, shuffle=True, drop_last = True)"
   ]
  },
  {
   "cell_type": "code",
   "execution_count": 13,
   "id": "5ddceb2f",
   "metadata": {},
   "outputs": [],
   "source": [
    "## dataloader 로 불러온 데이터의 차원\n",
    "for X, Y in train_dataloader:\n",
    "    X = X.view(-1, 28 * 28)\n",
    "#     print(X.size()) #?# what is meaning of 2nd index = 1?\n",
    "#     print(Y.size())\n",
    "#     break"
   ]
  },
  {
   "cell_type": "code",
   "execution_count": 55,
   "id": "643bc570",
   "metadata": {},
   "outputs": [],
   "source": [
    "class MNIST_MLP(nn.Module):\n",
    "    def __init__(self):\n",
    "        super().__init__()\n",
    "        self.MLP = nn.Sequential(\n",
    "            nn.Linear(784, 64),\n",
    "            nn.ReLU(),\n",
    "            nn.Linear(64, 10),\n",
    "            nn.Softmax(dim = 0)\n",
    "        )\n",
    "        \n",
    "    def forward(self, x):\n",
    "        return self.MLP(x)"
   ]
  },
  {
   "cell_type": "code",
   "execution_count": 62,
   "id": "261c3415",
   "metadata": {},
   "outputs": [],
   "source": [
    "model = MNIST_MLP()"
   ]
  },
  {
   "cell_type": "code",
   "execution_count": 66,
   "id": "4563577c",
   "metadata": {},
   "outputs": [
    {
     "name": "stdout",
     "output_type": "stream",
     "text": [
      "Epoch: 0001 cost = 2.164844751\n",
      "Epoch: 0011 cost = 2.164776087\n",
      "Epoch: 0021 cost = 2.164572716\n",
      "Epoch: 0031 cost = 2.164642334\n",
      "Epoch: 0041 cost = 2.164785385\n",
      "Epoch: 0051 cost = 2.164652824\n",
      "Epoch: 0061 cost = 2.164707422\n",
      "Epoch: 0071 cost = 2.164698124\n",
      "Epoch: 0081 cost = 2.164623260\n",
      "Epoch: 0091 cost = 2.164533377\n"
     ]
    }
   ],
   "source": [
    "optimizer = optim.SGD(model.parameters(), lr = 0.1)\n",
    "criterion = nn.CrossEntropyLoss()\n",
    "\n",
    "n_epoch = 100\n",
    "\n",
    "dataloader = train_dataloader\n",
    "\n",
    "for epoch in range(n_epoch):\n",
    "    \n",
    "    avg_cost = 0\n",
    "    total_batch = len(dataloader)\n",
    "    \n",
    "    for X, Y in dataloader:\n",
    "        X = X.view(-1, 28 * 28)\n",
    "        y_predict = model(X)\n",
    "        \n",
    "        optimizer.zero_grad()\n",
    "        cost = criterion(y_predict, Y)\n",
    "        cost.backward()\n",
    "        optimizer.step()\n",
    "        \n",
    "        avg_cost += cost / total_batch\n",
    "    \n",
    "    if epoch % 10 == 0:\n",
    "        print('Epoch:', '%04d' % (epoch + 1), 'cost =', '{:.9f}'.format(avg_cost))"
   ]
  },
  {
   "cell_type": "markdown",
   "id": "a594c5ff",
   "metadata": {},
   "source": [
    "생각보다 결과가 괜찮다"
   ]
  },
  {
   "cell_type": "code",
   "execution_count": 73,
   "id": "3fa8c62c",
   "metadata": {},
   "outputs": [
    {
     "data": {
      "text/plain": [
       "tensor([1, 3, 7, 1, 3, 6, 6, 2, 2, 1, 0, 1, 3, 2, 8, 1, 2, 9, 4, 7, 5, 2, 8, 6,\n",
       "        8, 6, 2, 8, 3, 3, 0, 2, 4, 6, 7, 4, 0, 3, 0, 5, 1, 0, 2, 2, 0, 7, 0, 8,\n",
       "        2, 2, 7, 5, 9, 3, 2, 3, 6, 0, 8, 3, 5, 4, 7, 6])"
      ]
     },
     "execution_count": 73,
     "metadata": {},
     "output_type": "execute_result"
    }
   ],
   "source": [
    "Y"
   ]
  },
  {
   "cell_type": "code",
   "execution_count": 72,
   "id": "072b8c36",
   "metadata": {},
   "outputs": [
    {
     "data": {
      "text/plain": [
       "tensor([1, 3, 7, 1, 3, 6, 6, 2, 2, 1, 0, 1, 3, 2, 8, 1, 2, 9, 4, 7, 5, 2, 8, 6,\n",
       "        8, 6, 2, 8, 3, 3, 0, 2, 4, 6, 7, 9, 0, 3, 0, 5, 1, 0, 2, 2, 0, 7, 0, 8,\n",
       "        2, 8, 7, 5, 9, 3, 2, 3, 6, 0, 8, 3, 5, 4, 7, 6])"
      ]
     },
     "execution_count": 72,
     "metadata": {},
     "output_type": "execute_result"
    }
   ],
   "source": [
    "torch.argmax(model(X), dim = 1)"
   ]
  }
 ],
 "metadata": {
  "kernelspec": {
   "display_name": "Python 3",
   "language": "python",
   "name": "python3"
  },
  "language_info": {
   "codemirror_mode": {
    "name": "ipython",
    "version": 3
   },
   "file_extension": ".py",
   "mimetype": "text/x-python",
   "name": "python",
   "nbconvert_exporter": "python",
   "pygments_lexer": "ipython3",
   "version": "3.8.8"
  }
 },
 "nbformat": 4,
 "nbformat_minor": 5
}
