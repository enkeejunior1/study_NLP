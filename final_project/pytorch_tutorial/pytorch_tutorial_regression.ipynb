{
 "cells": [
  {
   "cell_type": "code",
   "execution_count": 182,
   "id": "b6c6924c",
   "metadata": {},
   "outputs": [],
   "source": [
    "import torch\n",
    "import torch.nn as nn\n",
    "import torch.nn.functional as F\n",
    "\n",
    "import torch.optim as optim\n",
    "\n",
    "import numpy as np\n",
    "import matplotlib.pyplot as plt"
   ]
  },
  {
   "cell_type": "code",
   "execution_count": 234,
   "id": "752dd50f",
   "metadata": {},
   "outputs": [
    {
     "data": {
      "text/plain": [
       "tensor([[0],\n",
       "        [1],\n",
       "        [2],\n",
       "        [1],\n",
       "        [0],\n",
       "        [0],\n",
       "        [0],\n",
       "        [1],\n",
       "        [0],\n",
       "        [1]])"
      ]
     },
     "execution_count": 234,
     "metadata": {},
     "output_type": "execute_result"
    }
   ],
   "source": [
    "y.unsqueeze(1)"
   ]
  },
  {
   "cell_type": "code",
   "execution_count": 241,
   "id": "875408fc",
   "metadata": {},
   "outputs": [],
   "source": [
    "## softmax \n",
    "# create fake data\n",
    "# 5 dim data -> 3 index, num_data = 10\n",
    "N = 10\n",
    "x_dim = 5\n",
    "y_dim = 3 # number of index y\n",
    "\n",
    "y = torch.randint(3, (N,)).long()\n",
    "y_onehot = torch.zeros(N, y_dim)\n",
    "y_onehot.scatter_(1, y.unsqueeze(1), 1) # one-hot encoding \n",
    "\n",
    "x = y * torch.rand(N) + 0.1 * torch.rand(N)\n",
    "x_true = torch.stack((x, x, x, x, x), dim = 1)\n",
    "\n",
    "class softmax_regression(nn.Module):\n",
    "    def __init__(self, x_dim, y_dim):\n",
    "        super().__init__()\n",
    "        self.MLP = nn.Sequential(\n",
    "            nn.Linear(x_dim, 10),\n",
    "            nn.Linear(10, y_dim)\n",
    "        )\n",
    "    \n",
    "    def forward(self, x):\n",
    "        return F.softmax(self.MLP(x), dim = 0)"
   ]
  },
  {
   "cell_type": "code",
   "execution_count": 242,
   "id": "fa6a4b4c",
   "metadata": {},
   "outputs": [],
   "source": [
    "model = softmax_regression(x_dim, y_dim)"
   ]
  },
  {
   "cell_type": "code",
   "execution_count": 257,
   "id": "b9b3f318",
   "metadata": {},
   "outputs": [],
   "source": [
    "optimizer = optim.SGD(model.parameters(), lr = 0.01)\n",
    "\n",
    "n_epoch = 10000\n",
    "\n",
    "for epoch in range(n_epoch):\n",
    "    y_predict = model(x_true)\n",
    "    \n",
    "    loss = torch.sum((y_onehot - y_predict)**2)\n",
    "    \n",
    "    optimizer.zero_grad()\n",
    "    loss.backward()\n",
    "    optimizer.step()"
   ]
  },
  {
   "cell_type": "code",
   "execution_count": 258,
   "id": "3dbab4a5",
   "metadata": {},
   "outputs": [
    {
     "data": {
      "text/plain": [
       "tensor([2, 0, 0, 1, 1, 0, 1, 1, 1, 0])"
      ]
     },
     "execution_count": 258,
     "metadata": {},
     "output_type": "execute_result"
    }
   ],
   "source": [
    "# learning is not that efficient..\n",
    "torch.argmax(F.softmax(y_predict, dim = 0), dim = 1)"
   ]
  },
  {
   "cell_type": "code",
   "execution_count": 259,
   "id": "40023104",
   "metadata": {},
   "outputs": [
    {
     "data": {
      "text/plain": [
       "tensor([0, 0, 0, 2, 1, 0, 2, 0, 0, 1])"
      ]
     },
     "execution_count": 259,
     "metadata": {},
     "output_type": "execute_result"
    }
   ],
   "source": [
    "y_true"
   ]
  }
 ],
 "metadata": {
  "kernelspec": {
   "display_name": "Python 3",
   "language": "python",
   "name": "python3"
  },
  "language_info": {
   "codemirror_mode": {
    "name": "ipython",
    "version": 3
   },
   "file_extension": ".py",
   "mimetype": "text/x-python",
   "name": "python",
   "nbconvert_exporter": "python",
   "pygments_lexer": "ipython3",
   "version": "3.8.8"
  }
 },
 "nbformat": 4,
 "nbformat_minor": 5
}
