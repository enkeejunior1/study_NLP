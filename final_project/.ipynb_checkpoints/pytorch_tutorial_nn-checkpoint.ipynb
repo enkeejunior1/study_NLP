{
 "cells": [
  {
   "cell_type": "code",
   "execution_count": 45,
   "id": "9a959e98",
   "metadata": {},
   "outputs": [
    {
     "data": {
      "text/plain": [
       "<torch._C.Generator at 0x1e9e34ff430>"
      ]
     },
     "execution_count": 45,
     "metadata": {},
     "output_type": "execute_result"
    }
   ],
   "source": [
    "import torch\n",
    "import torch.nn as nn\n",
    "import torch.nn.functional as F\n",
    "import numpy as np\n",
    "\n",
    "torch.manual_seed(1)"
   ]
  },
  {
   "cell_type": "markdown",
   "id": "1be0fd4a",
   "metadata": {},
   "source": [
    "model 에서 여러개의 data 를 넣는 방법을 알아야겠네.\n",
    "\n",
    "linear(n, m) 은 단일 데이터에 대한건데... 음"
   ]
  },
  {
   "cell_type": "code",
   "execution_count": 15,
   "id": "4d291c85",
   "metadata": {},
   "outputs": [
    {
     "name": "stdout",
     "output_type": "stream",
     "text": [
      "[Parameter containing:\n",
      "tensor([[0.9855]], requires_grad=True), Parameter containing:\n",
      "tensor([0.0732], requires_grad=True)]\n"
     ]
    }
   ],
   "source": [
    "## linear regression\n",
    "\n",
    "# hyper parameters\n",
    "learning_rate = 0.01\n",
    "n_epoch = 1000\n",
    "\n",
    "# data\n",
    "x_train = torch.rand(3).unsqueeze(1) # 만약 unsqueeze 를 뺀다면?\n",
    "y_train = x_train + 0.1 * torch.rand(3).unsqueeze(1)\n",
    "\n",
    "# model\n",
    "model = nn.Linear(1, 1) # 1-dim vector -> 1-dim vector\n",
    "\n",
    "# optimizer\n",
    "optimizer = torch.optim.SGD(model.parameters(), lr = learning_rate)\n",
    "\n",
    "for _ in range(n_epoch):\n",
    "    y_predict = model(x_train)\n",
    "    loss = F.mse_loss(y_predict, y_train)\n",
    "    \n",
    "    optimizer.zero_grad()\n",
    "    loss.backward()\n",
    "    optimizer.step()\n",
    "    \n",
    "print(list(model.parameters()))"
   ]
  },
  {
   "cell_type": "code",
   "execution_count": 56,
   "id": "e4be0aa8",
   "metadata": {},
   "outputs": [
    {
     "name": "stdout",
     "output_type": "stream",
     "text": [
      "[Parameter containing:\n",
      "tensor([[-0.2988,  0.1252, -0.2102]], requires_grad=True), Parameter containing:\n",
      "tensor([-0.1297], requires_grad=True)]\n"
     ]
    }
   ],
   "source": [
    "## multivariate linear regression\n",
    "\n",
    "# hyper parameters\n",
    "learning_rate = 1e-9\n",
    "n_epoch = 100000\n",
    "\n",
    "# data\n",
    "x_train = torch.rand(5, 3)\n",
    "y_train = 0.7 * x_train[:, 0] + \\\n",
    "          0.8 * x_train[:, 1] + \\\n",
    "          0.3 * x_train[:, 2] + 0.01 * torch.rand(5)\n",
    "\n",
    "y_train = y_train.unsqueeze(-1)\n",
    "\n",
    "lm = nn.Linear(3, 1)\n",
    "\n",
    "optimizer = torch.optim.SGD(model.parameters(), lr = learning_rate)\n",
    "\n",
    "for _ in range(n_epoch):\n",
    "    optimizer.zero_grad()\n",
    "    \n",
    "    y_predict = lm(x_train)\n",
    "    loss = F.mse_loss(y_predict, y_train)\n",
    "    \n",
    "    loss.backward()\n",
    "    optimizer.step()\n",
    "    \n",
    "print(list(lm.parameters()))"
   ]
  },
  {
   "cell_type": "code",
   "execution_count": 54,
   "id": "6f5aee45",
   "metadata": {},
   "outputs": [
    {
     "data": {
      "text/plain": [
       "(tensor([[1.1145],\n",
       "         [1.2301],\n",
       "         [1.1904],\n",
       "         [1.0504],\n",
       "         [1.3584]]),\n",
       " tensor([[-0.0439],\n",
       "         [-0.0966],\n",
       "         [ 0.0944],\n",
       "         [-0.2528],\n",
       "         [-0.1229]], grad_fn=<AddmmBackward>))"
      ]
     },
     "execution_count": 54,
     "metadata": {},
     "output_type": "execute_result"
    }
   ],
   "source": [
    "y_train, y_predict"
   ]
  },
  {
   "cell_type": "code",
   "execution_count": null,
   "id": "ea3e5b99",
   "metadata": {},
   "outputs": [],
   "source": []
  }
 ],
 "metadata": {
  "kernelspec": {
   "display_name": "Python 3",
   "language": "python",
   "name": "python3"
  },
  "language_info": {
   "codemirror_mode": {
    "name": "ipython",
    "version": 3
   },
   "file_extension": ".py",
   "mimetype": "text/x-python",
   "name": "python",
   "nbconvert_exporter": "python",
   "pygments_lexer": "ipython3",
   "version": "3.8.8"
  }
 },
 "nbformat": 4,
 "nbformat_minor": 5
}
