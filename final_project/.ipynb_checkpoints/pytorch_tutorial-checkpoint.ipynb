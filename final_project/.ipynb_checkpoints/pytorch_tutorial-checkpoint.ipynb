{
 "cells": [
  {
   "cell_type": "code",
   "execution_count": 1,
   "id": "3eaedb4c",
   "metadata": {},
   "outputs": [],
   "source": [
    "import torch\n",
    "import numpy as np\n",
    "import matplotlib.pyplot as plt"
   ]
  },
  {
   "cell_type": "code",
   "execution_count": 23,
   "id": "bfe3df63",
   "metadata": {},
   "outputs": [],
   "source": [
    "# create tensor\n",
    "\n",
    "a  = np.random.rand(2, 3)\n",
    "b  = np.random.rand(2, 3)\n",
    "t1 = torch.tensor(a)\n",
    "t2 = torch.tensor(b)"
   ]
  },
  {
   "cell_type": "code",
   "execution_count": 31,
   "id": "786dd7dd",
   "metadata": {},
   "outputs": [
    {
     "name": "stdout",
     "output_type": "stream",
     "text": [
      "tensor([[0.4217, 0.5228],\n",
      "        [0.6289, 0.8067]], dtype=torch.float64)\n"
     ]
    }
   ],
   "source": [
    "# 곱셈을 위해서는 einsum 를 자주 활용해보자.\n",
    "# https://pytorch.org/docs/stable/generated/torch.einsum.html\n",
    "\n",
    "# element wise multiplication\n",
    "t3 = torch.einsum('ij, ij -> ij', t1, t2)\n",
    "\n",
    "# matmul\n",
    "t4 = torch.einsum('ik, kj -> ij', t1, torch.t(t2))\n",
    "print(t4)"
   ]
  },
  {
   "cell_type": "code",
   "execution_count": 39,
   "id": "11556e5a",
   "metadata": {},
   "outputs": [
    {
     "name": "stdout",
     "output_type": "stream",
     "text": [
      "tensor([[0.4722],\n",
      "        [0.7178]], dtype=torch.float64)\n",
      "tensor([[0.5253, 0.6647]], dtype=torch.float64)\n",
      "tensor([0.4722, 0.7178], dtype=torch.float64)\n"
     ]
    }
   ],
   "source": [
    "# 대푯값 구하기\n",
    "# dim = i 는 i-th 차원을 제거한다는 의미.\n",
    "print(t4.mean(dim = 1, keepdim = True))\n",
    "print(t4.mean(dim = 0, keepdim = True))\n",
    "print(t4.mean(dim = 1))"
   ]
  },
  {
   "cell_type": "code",
   "execution_count": 61,
   "id": "150192ed",
   "metadata": {},
   "outputs": [
    {
     "name": "stdout",
     "output_type": "stream",
     "text": [
      "torch.Size([1, 2, 2, 3])\n",
      "torch.Size([2, 2, 3])\n"
     ]
    }
   ],
   "source": [
    "# 텐서 조작\n",
    "# view, squeeze, unsqueeze\n",
    "t = torch.rand(2, 2, 3)\n",
    "\n",
    "t.view([-1, 3])\n",
    "print(t.unsqueeze(0).size())\n",
    "print(t.squeeze(0).size())\n",
    "\n",
    "# type casting\n",
    "print(t.long()) # long 은 int type 이라서 [0, 1] 범위 숫자를 전부 0으로 만듦\n",
    "print(t.float())"
   ]
  },
  {
   "cell_type": "code",
   "execution_count": 64,
   "id": "def19a4e",
   "metadata": {},
   "outputs": [
    {
     "name": "stdout",
     "output_type": "stream",
     "text": [
      "torch.Size([4, 2, 3])\n"
     ]
    }
   ],
   "source": [
    "# concat\n",
    "x = torch.rand(2, 2, 3)\n",
    "y = torch.rand(2, 2, 3)\n",
    "\n",
    "print(torch.cat([x, y], dim=0).size())"
   ]
  },
  {
   "cell_type": "code",
   "execution_count": 28,
   "id": "d2464dda",
   "metadata": {},
   "outputs": [],
   "source": [
    "# 자동미분\n",
    "# torch 의 variable 은 tensor 와 병합됐다고 한다.\n",
    "\n",
    "W = torch.rand(2, 2, requires_grad = True)\n",
    "y = W**2\n",
    "z = 2*y + 5\n",
    "loss = z.sum()\n",
    "\n",
    "# z.backward() # backward 는 scalar 변수에 대해서만 적용 가능하다.\n",
    "loss.backward()"
   ]
  },
  {
   "cell_type": "code",
   "execution_count": 29,
   "id": "2893b961",
   "metadata": {},
   "outputs": [],
   "source": [
    "# 계산 과정 중 활용되는 grad 는 한번 사용되면 버려진다. \n",
    "# loss.backward() # 그래서 에러가 나오는 것."
   ]
  },
  {
   "cell_type": "code",
   "execution_count": 1,
   "id": "ec120b83",
   "metadata": {},
   "outputs": [],
   "source": [
    "# 활용 예시\n",
    "import torch\n",
    "import torch.nn as nn\n",
    "import torch.nn.functional as F\n",
    "import torch.optim as optim\n",
    "\n",
    "x1_train = torch.FloatTensor([[73], [93], [89], [96], [73]])\n",
    "x2_train = torch.FloatTensor([[80], [88], [91], [98], [66]])\n",
    "x3_train = torch.FloatTensor([[75], [93], [90], [100], [70]])\n",
    "y_train = torch.FloatTensor([[152], [185], [180], [196], [142]])\n",
    "\n",
    "# create parameters for multi-variate linear model\n",
    "X = torch.cat([x1_train, x2_train, x3_train], dim = 1)\n",
    "W = torch.zeros(3, requires_grad = True)\n",
    "b = torch.zeros(1, requires_grad = True)\n",
    "\n",
    "optimizer = optim.SGD([W, b], lr = 1e-5)\n",
    "\n",
    "n_epoch = 1000\n",
    "\n",
    "learning_traj = torch.zeros(n_epoch)\n",
    "\n",
    "# predict and update by SGD\n",
    "for epoch in range(n_epoch):\n",
    "    y_predict = torch.einsum('i, ji -> j', W, X) + b\n",
    "    MSE = torch.sqrt((y_predict - y_train)**2).sum()\n",
    "    \n",
    "    optimizer.zero_grad()\n",
    "    MSE.backward()\n",
    "    optimizer.step()\n",
    "    \n",
    "    learning_traj[epoch] = MSE"
   ]
  },
  {
   "cell_type": "code",
   "execution_count": null,
   "id": "44c30c4b",
   "metadata": {},
   "outputs": [],
   "source": [
    "import matplotlib.pyplot as plt\n",
    "import numpy as np\n",
    "\n",
    "plt.plot(np.linspace(0, 1, 10), np.linspace(0, 1, 10))"
   ]
  },
  {
   "cell_type": "code",
   "execution_count": null,
   "id": "ab66a3dc",
   "metadata": {},
   "outputs": [],
   "source": [
    "import matplotlib.pyplot as plt\n",
    "plt.plot(range(n_epoch), learning_traj.detach().numpy())\n",
    "plt.show()"
   ]
  },
  {
   "cell_type": "code",
   "execution_count": null,
   "id": "02c5b432",
   "metadata": {},
   "outputs": [],
   "source": [
    "optimizer = optim.Adam()"
   ]
  }
 ],
 "metadata": {
  "kernelspec": {
   "display_name": "Python 3",
   "language": "python",
   "name": "python3"
  },
  "language_info": {
   "codemirror_mode": {
    "name": "ipython",
    "version": 3
   },
   "file_extension": ".py",
   "mimetype": "text/x-python",
   "name": "python",
   "nbconvert_exporter": "python",
   "pygments_lexer": "ipython3",
   "version": "3.8.8"
  }
 },
 "nbformat": 4,
 "nbformat_minor": 5
}
