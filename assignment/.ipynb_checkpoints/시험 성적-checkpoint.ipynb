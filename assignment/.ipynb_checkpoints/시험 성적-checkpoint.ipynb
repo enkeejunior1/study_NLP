{
 "cells": [
  {
   "cell_type": "code",
   "execution_count": 1,
   "id": "bacdab83",
   "metadata": {},
   "outputs": [],
   "source": [
    "a = ['2021-23462\t49',\n",
    "'2021-26928\t78',\n",
    "'2021-24326\t56',\n",
    "'2019-26152\t70.5',\n",
    "'2020-20716\t47',\n",
    "'2020-36326\t43',\n",
    "'2021-35663\t70',\n",
    "'2019-32950\t',\n",
    "'2019-26192\t',\n",
    "'2019-26471\t87',\n",
    "'2021-24334\t57',\n",
    "'2021-26348\t72',\n",
    "'2021-30343\t69',\n",
    "'2019-35231\t',\n",
    "'2021-27386\t54',\n",
    "'2021-23757\t59',\n",
    "'2021-27005\t',\n",
    "'2021-20876\t64',\n",
    "'2021-23283\t73.5',\n",
    "'2021-20021\t63',\n",
    "'2021-32625\t47',\n",
    "'2015-31188\t',\n",
    "'2021-37506\t57',\n",
    "'2020-21121\t64',\n",
    "'2021-21120\t52.5',\n",
    "'2016-15711\t64',\n",
    "'2021-21550\t81',\n",
    "'2021-21008\t',\n",
    "'2020-26472\t76',\n",
    "'2016-12855\t',\n",
    "'2021-22918\t66',\n",
    "'2020-24835\t59',\n",
    "'2021-21846\t61',\n",
    "'2021-28902\t42',\n",
    "'2021-29101\t47.5',\n",
    "'2021-32206\t',\n",
    "'2020-29025\t',\n",
    "'2021-24162\t',\n",
    "'2021-20916\t75',\n",
    "'2020-21427\t84',\n",
    "'2021-27031\t61',\n",
    "'2017-12932\t89',\n",
    "'2021-33205\t43',\n",
    "'2021-24878\t',\n",
    "'2020-33494\t53',\n",
    "'2019-24003\t60',\n",
    "'2017-38945\t',\n",
    "'2016-36158\t27',\n",
    "'2021-23060\t68',\n",
    "'2021-22750\t63',\n",
    "'2021-22053\t50',\n",
    "'2021-27696\t85.5',\n",
    "'2021-21049\t75',\n",
    "'2015-30690\t',\n",
    "'2020-23433\t44',\n",
    "'2021-29407\t68',\n",
    "'2020-36297\t',\n",
    "'2020-21057\t74',\n",
    "'2021-23909\t',\n",
    "'2021-24350\t67',\n",
    "'2020-36201\t',\n",
    "'2020-26004\t69',\n",
    "'2021-21285\t26',\n",
    "'2020-21540\t72',\n",
    "'2021-20711\t43',\n",
    "'2021-23304\t',\n",
    "'2018-27131\t',\n",
    "'2021-23076\t80',\n",
    "'2020-27374\t',\n",
    "'2021-24215\t']\n"
   ]
  },
  {
   "cell_type": "code",
   "execution_count": 4,
   "id": "54899f6d",
   "metadata": {},
   "outputs": [],
   "source": [
    "import re\n",
    "test_score = []\n",
    "for item in a:\n",
    "    score = re.split('\\t', item)[1]\n",
    "    if score != '':\n",
    "        test_score.append(float(score))"
   ]
  },
  {
   "cell_type": "code",
   "execution_count": 6,
   "id": "8ebe2386",
   "metadata": {},
   "outputs": [
    {
     "data": {
      "text/plain": [
       "62.11"
      ]
     },
     "execution_count": 6,
     "metadata": {},
     "output_type": "execute_result"
    }
   ],
   "source": [
    "import numpy as np\n",
    "test_score_array = np.array(test_score)\n",
    "np.average(test_score_array)"
   ]
  },
  {
   "cell_type": "code",
   "execution_count": 8,
   "id": "9cc3d305",
   "metadata": {
    "scrolled": true
   },
   "outputs": [
    {
     "name": "stdout",
     "output_type": "stream",
     "text": [
      "52.625\n",
      "63.5\n",
      "72.0\n"
     ]
    }
   ],
   "source": [
    "print(np.quantile(test_score_array, 0.25))\n",
    "print(np.quantile(test_score_array, 0.5))\n",
    "print(np.quantile(test_score_array, 0.75))"
   ]
  },
  {
   "cell_type": "code",
   "execution_count": 14,
   "id": "9d2e4101",
   "metadata": {},
   "outputs": [
    {
     "data": {
      "image/png": "[encoded data removed]",
      "text/plain": [
       "<Figure size 432x288 with 1 Axes>"
      ]
     },
     "metadata": {
      "needs_background": "light"
     },
     "output_type": "display_data"
    }
   ],
   "source": [
    "import matplotlib.pyplot as plt\n",
    "plt.hist(test_score_array, bins = 10)\n",
    "plt.show()"
   ]
  }
 ],
 "metadata": {
  "kernelspec": {
   "display_name": "Python 3",
   "language": "python",
   "name": "python3"
  },
  "language_info": {
   "codemirror_mode": {
    "name": "ipython",
    "version": 3
   },
   "file_extension": ".py",
   "mimetype": "text/x-python",
   "name": "python",
   "nbconvert_exporter": "python",
   "pygments_lexer": "ipython3",
   "version": "3.8.8"
  }
 },
 "nbformat": 4,
 "nbformat_minor": 5
}
