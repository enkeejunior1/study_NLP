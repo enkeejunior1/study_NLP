{
 "cells": [
  {
   "cell_type": "markdown",
   "metadata": {},
   "source": [
    "# Assignment 1: Raw Data Parsing, Processing, and Applying Regular Expressions\n",
    "## 개요\n",
    "- json 형식의 파일에서 필요한 정보를 추출\n",
    "- 추출된 텍스트 내용을 다양한 모듈과 방법을 사용하여 한국어 preprocessing을 수행\n",
    "- 정제된 데이터에서 정규표현식을 사용하여 제시된 결과 도출\n",
    "\n"
   ]
  },
  {
   "cell_type": "markdown",
   "metadata": {},
   "source": [
    "## 내용\n",
    "- 첨부된 NIRW1900000011.json 파일은 국립국어원의 총 367개의 뉴스 기사 코퍼스 중 1개의 파일. \n",
    "- 뉴스기사의 json파일을 프로세싱 해서 필요한 뉴스기사 (form) 정보만을 추출\n",
    "- 추출된 텍스트에는 ‘, ’, ◇, ‘, ”,  ’, ', ·, \\“, ·, △, ●,  , ■, (, ), \\\", >>, `, /, -,∼,=,ㆍ<,>, .,?, !,【,】, …, ◆,% 등의 불필요한 심볼, 기호, 공백 등이 있을 수 있음\n",
    "- 정규표현을 사용하기 쉽게 가능한 선처리 및 정규화 진행\n",
    "- 제시된 정규표현으로 그 결과를 도출하고 출력하는 프로그래밍\n",
    "- 정규표현은 한글의 자모를 분리하거나, 유니코드의 글자 배열 방식을 활용하여 수식을 만들어 처리하는 등 여러 가지 방법 및 가능성이 존재. 여러분들의 창의적인 방법을 기대함!\n",
    "- 한국어 자소 분해 및 결합 등과 관련한 설명과 자료는 강의자료에 있는 NLP Modules and Tools나 [이 블로그 참조](https://m.blog.naver.com/myincizor/221631254811). 한글 관련 라이브러리가 많으니 참조하길.\n",
    "- 개인적으로 하거나 최대 두명까지 그룹 허용. \n",
    "- 이 노트북 화일에 이름을 변경하여 작업하고 제출. 제출시 화일명을 Assignment1_[DS또는 CL]_학과_이름.ipynb\n",
    "- 마감: 9월 23일 23시 59분 59초! \n",
    "- 이 시각 이후에는 ETL에 업로드 차단됨"
   ]
  },
  {
   "cell_type": "markdown",
   "metadata": {},
   "source": [
    "## 신문 말뭉치 구조 \n",
    "\n",
    "```python\n",
    "{\n",
    "    \"id\": \"NLRW1900000151\",\n",
    "    \"metadata\": {\n",
    "        \"title\": \"국립국어원 신문 말뭉치 NLRW1900000151\",\n",
    "        \"creator\": \"국립국어원\",\n",
    "        \"distributor\": \"국립국어원\",\n",
    "        \"year\": \"2019\",\n",
    "        \"category\": \"신문 > 지역 종합지\",\n",
    "        \"annotation_level\": [\n",
    "            \"원시\"\n",
    "        ],\n",
    "        \"sampling\": \"부분 추출 - 임의 추출\"\n",
    "    },\n",
    "    \"document\": [\n",
    "        {\n",
    "            \"id\": \"NLRW1900000151.1\",\n",
    "            \"metadata\": {\n",
    "                \"title\": \"영남일보 2017년 기사\",\n",
    "                \"author\": \"구경모기자\",\n",
    "                \"publisher\": \"영남일보\",\n",
    "                \"date\": \"20170105\",\n",
    "                \"topic\": \"사회\",\n",
    "                \"original_topic\": \"정치\"\n",
    "            },\n",
    "            \"paragraph\": [\n",
    "                {\n",
    "                    \"id\": \"NLRW1900000151.1.1\",\n",
    "                    \"form\": \"軍 “北 김정은 제거 특수여단 올해 창설”\"\n",
    "                },\n",
    "                {\n",
    "                    \"id\": \"NLRW1900000151.1.2\",\n",
    "                    \"form\": \"북한의 핵·대량살상무기(WMD) 위협에 대비한 특수임무여단이 창설된다. 국방부는 4일 황교안 대통령 권한대\n",
    "행 에게 새해 첫 업무보고를 하는 자리에서 “유사시 북한 전쟁지도부를 제거하고 기능을 마비시키는 임무를 수행하는 특수임무여단을 올해\n",
    " 조기에 창설하는 계획을 국방개혁기본계획에 반영했다”며 이같이 밝혔다. ☞15면에 관련기사\"\n",
    "                },\n",
    "                {\n",
    "                    \"id\": \"NLRW1900000151.1.3\",\n",
    "                    \"form\": \"국방부에 따르면 특수임무여단은 한반도 유사시 평양에 진입해 핵무기 발사명령 권한을 가지고 있는 김정은\n",
    " 북한 노동당 위원장을 비롯한 전쟁지도부를 제거하고, 전쟁지휘시설을 마비시키는 임무를 수행한다.\"\n",
    "                },\n",
    "                {\n",
    "                    \"id\": \"NLRW1900000151.1.4\",\n",
    "                    \"form\": \"북한의 핵 능력과 관련해서는 “북한은 강력한 국제제재와 압박에도 핵·미사일 능력 고도화에 혈안이 되어 \n",
    "있으며, 통전(통일전선) 책동 강화와 함께 전략·전술적 도발을 감행할 가능성이 있다\\\"고 밝혔다.\"\n",
    "                },\n",
    "                {\n",
    "                    \"id\": \"NLRW1900000151.1.5\",\n",
    "                    \"form\": \"군 당국은 지난해부터 특수임무여단이 사용할 개인화기와 통신장비 등을 마련해 왔다. 특히 특수임무여단의\n",
    " 침투를 돕기 위해 특수장비로 개조된 헬기와 수송기 등 항공전력도 중·장기적으로 도입할 계획이다.\"\n",
    "                },\n",
    "                {\n",
    "                    \"id\": \"NLRW1900000151.1.6\",\n",
    "                    \"form\": \"국방부 관계자는 “특수임무여단 창설은 당초 2019년으로 예정했는데 2년 앞당기게 됐다”며 “여단은 육군 특\n",
    "수전사령부 예하의 일부 부대를 재편성해 만들어진다. 북한 수뇌부를 비롯해 핵시설, 미사일 기지, 대량살상무기 관련 시설 등이 목표”라\n",
    "고 말했다.\"\n",
    "                },\n",
    "                {\n",
    "                    \"id\": \"NLRW1900000151.1.7\",\n",
    "                    \"form\": \"한편 황교안 권한대행은 이날부터 11일까지 ‘2017년 정부 부처 업무보고’를 받는다. 정부 각 부처가 새해 \n",
    "국정의 기본 그림을 보고하는 업무보고는 박근혜 대통령의 직무 정지로 황 권한대행이 하게 됐다.\"\n",
    "                }\n",
    "            ]\n",
    "        },\n",
    "        {\n",
    "            \"id\": \"NLRW1900000151.2\",\n",
    "            \"metadata\": {\n",
    "                \"title\": \"영남일보 2017년 기사\",\n",
    "                \"author\": \"최수경기자\",\n",
    "                \"publisher\": \"영남일보\",\n",
    "                \"date\": \"20170105\",\n",
    "                \"topic\": \"정치\",\n",
    "                \"original_topic\": \"정치\"\n",
    "            },\n",
    "            \"paragraph\": [\n",
    "                {\n",
    "                    \"id\": \"NLRW1900000151.2.1\",\n",
    "                    \"form\": \"權 시장 “엑스코線 올해 예타 신청”\"\n",
    "                },\n",
    "                {\n",
    "                    \"id\": \"NLRW1900000151.2.2\",\n",
    "                    \"form\": \"권영진 대구시장은 4일 “대구도시철도 엑스코선(동대구역~경북대~산격동 시청별관~종합유통단지~검단들) 연\n",
    "결사업을 올해 예비타당성조사대상사업으로 정부에 신청하겠다”고 밝혔다.\"\n",
    "                },\n",
    "                {\n",
    "                    \"id\": \"NLRW1900000151.2.3\",\n",
    "                    \"form\": \"권 시장은 이날 대구시청에서 열린 신년 기자회견에서 “엑스코선 연결사업은 과거 지하화로 추진했을 땐 경\n",
    "제성이 떨어져 무산됐다. 이 부분은 지금도 마찬가지라고 본다”면서 “하지만 도시철도 3호선(모노레일)이나 트램(노면전차) 방식으로 추진\n",
    "하면 경제성이 있을 것”이라고 강조했다. 이어 “앞으로 개발될 검단들까지 노선이 연장되면, 사업방식에 따라서 경제성이 더 나올 가능성\n",
    "이 있다”면서 “올해 예타신청을 계기로, 가급적 2021년 세계가스총회 때 개통했으면 좋겠다. 다소 어려움이 있겠지만 최대한 빨리 추진하\n",
    "겠다”고 덧붙였다.\"\n",
    "                },\n",
    "                {\n",
    "                    \"id\": \"NLRW1900000151.2.4\",\n",
    "                    \"form\": \"대구도시철도 ‘엑스코선 구간’은 다른 구간에 비해 유동인구가 많아 이미 오래전부터 도시철도 건설 필요성\n",
    "이 꾸준히 제기돼 온 곳이다. 특히 이 구간엔 경북대·영진전문대 등의 대학들도 자리잡고 있어 학생과 교직원들의 학교 접근성이 크게 향\n",
    "상될 것으로 보인다.\"\n",
    "                },\n",
    "                {\n",
    "                    \"id\": \"NLRW1900000151.2.5\",\n",
    "                    \"form\": \"아울러 권 시장은 창업생태계조성 차원에서 지역 창업기업에 투자할 엔젤투자자(민간투자자) 육성에 적극 \n",
    "나서겠다는 의지도 피력했다. 우선 이스라엘의 대표적 벤처캐피털이자 스타트업 지원펀드인 ‘요즈마 그룹’과의 협업을 추진한다. 대구창조\n",
    "경제혁신센터를 통해 기업창업을 진두지휘하는 삼성측에 대해선 “자체 벤처육성 프로그램인 C-Lab(Creative Lab)에 있는 기업에만 투자하\n",
    "지 말고, 앞으론 창업보육기업을 만드는 데도 직접 참여했으면 한다”고 말했다.\"\n",
    "                }\n",
    "            ]\n",
    "        },\n",
    "```"
   ]
  },
  {
   "cell_type": "markdown",
   "metadata": {},
   "source": [
    "# 파일을 불러들어와 json파일을 파싱하여 필요한 텍스트를 추출"
   ]
  },
  {
   "cell_type": "code",
   "execution_count": 2,
   "metadata": {},
   "outputs": [
    {
     "name": "stdout",
     "output_type": "stream",
     "text": [
      "/Users/huni/Dropbox/[1]2021-2/[2-2]NLP/Ass1\n"
     ]
    }
   ],
   "source": [
    "import re, os, json\n",
    "from sys import platform\n",
    "\n",
    "print(os.getcwd())\n",
    "FILE_NAME = 'NIRW1900000011.json'\n",
    "f = open(os.path.join(os.getcwd(), FILE_NAME))\n",
    "data = json.load(f)"
   ]
  },
  {
   "cell_type": "code",
   "execution_count": 3,
   "metadata": {},
   "outputs": [
    {
     "data": {
      "application/vnd.jupyter.widget-view+json": {
       "model_id": "806c1e9738894fe0ae72c73df098d24d",
       "version_major": 2,
       "version_minor": 0
      },
      "text/plain": [
       "HBox(children=(HTML(value=''), FloatProgress(value=1.0, bar_style='info', layout=Layout(width='20px'), max=1.0…"
      ]
     },
     "metadata": {},
     "output_type": "display_data"
    },
    {
     "name": "stdout",
     "output_type": "stream",
     "text": [
      ">>>>>>> 위계1 : <class 'dict'> dict_keys(['id', 'metadata', 'paragraph']) \n",
      "\n",
      ">>>>>>> 위계2 : <class 'dict'> dict_keys(['id', 'form']) \n",
      "\n",
      "\n",
      "total data length: 8250 \n",
      "sample1 :  氣운 북돋워 다시 祝배를 \n",
      "sample2 :  금융 위기가 실물 경제로 옮겨 붙고, 서민들의 생활고가 현실화하는 상황이 계속될 것이란 전망이다. 기업들의 상황도 그리 녹록지 않다. 한국은행이 2009년 우리나라 경제성장률을 2%로 IMF 이후 최악을 예상했다. 마이너스를 기록할 것이란 우려도 곳곳에서 제기됐다. 11년 전 IMF 구제 금융 위기 상황이 다시 도래했다는 전망도 심심찮게 들려온다. 이는 수출과 내수에서 국내 경제를 이끌어온 IT산업에 치명타일 수밖에 없다.\n"
     ]
    }
   ],
   "source": [
    "# 추출된 텍스트를 preprocessing\n",
    "'''\n",
    "data structure\n",
    "1. 주어진 json: id, metadata, document\n",
    "    - 2. Document: 길이 625, id/metadata/paragraph\n",
    "        - 3. paragraph: 길이 00, id/form\n",
    "'''\n",
    "from tqdm.notebook import tqdm\n",
    "data_cl = []\n",
    "for idx, documents in tqdm(enumerate(data['document'])): # type of documents: dictionary\n",
    "    if idx == 0:\n",
    "        print('>>>>>>> 위계1 :', type(documents), documents.keys(), '\\n')\n",
    "    \n",
    "    for idxx, document in enumerate(documents['paragraph']): # type of document: list\n",
    "        if idx == 0 and idxx == 0:\n",
    "            print('>>>>>>> 위계2 :', type(document), document.keys(), '\\n')\n",
    "        \n",
    "        data_cl.append(document['form'])\n",
    "        \n",
    "\n",
    "print(f'total data length: {len(data_cl)}',\n",
    "        '\\nsample1 : ', data_cl[0],\n",
    "        '\\nsample2 : ', data_cl[3] \n",
    ")"
   ]
  },
  {
   "cell_type": "code",
   "execution_count": 16,
   "metadata": {},
   "outputs": [
    {
     "name": "stdout",
     "output_type": "stream",
     "text": [
      ">>>>>> 1 : 氣운 북돋워 다시 祝배를\n",
      ">>>>>> 2 : ['氣', '운', '북돋워', '다시', '祝', '배', '를']\n",
      ">>>>>>> 한글없다:  氣\n",
      ">>>>>>> 3 :  ('ㅇ', 'ㅜ', 'ㄴ')\n",
      ">>>>>>> 4 :  운\n",
      ">>>>>>> 3 :  ('ㅂ', 'ㅜ', 'ㄱ')\n",
      ">>>>>>> 4 :  북\n",
      ">>>>>>> 3 :  ('ㄷ', 'ㅗ', 'ㄷ')\n",
      ">>>>>>> 4 :  돋\n",
      ">>>>>>> 3 :  ('ㅇ', 'ㅝ', ' ')\n",
      ">>>>>>> 4 :  워\n",
      ">>>>>>> 3 :  ('ㄷ', 'ㅏ', ' ')\n",
      ">>>>>>> 4 :  다\n",
      ">>>>>>> 3 :  ('ㅅ', 'ㅣ', ' ')\n",
      ">>>>>>> 4 :  시\n",
      ">>>>>>> 한글없다:  祝\n",
      ">>>>>>> 3 :  ('ㅂ', 'ㅐ', ' ')\n",
      ">>>>>>> 4 :  배\n",
      ">>>>>>> 3 :  ('ㄹ', 'ㅡ', 'ㄹ')\n",
      ">>>>>>> 4 :  를\n",
      "('ㄹ', 'ㅡ', 'ㄹ')\n"
     ]
    }
   ],
   "source": [
    "from konlpy.tag import Mecab\n",
    "from soynlp.hangle import compose, decompose # 지훈아 자신있니?\n",
    "mecab = Mecab()\n",
    "\n",
    "def microscope(input):\n",
    "    print('>>>>>> 1 : {}'.format(input))\n",
    "    output = mecab.morphs(input)\n",
    "    print('>>>>>> 2 : {}'.format(output))\n",
    "    for word in output:\n",
    "        for jamo in word:\n",
    "            if re.match('[ㄱ-ㅎㅏ-ㅣ가-힣]', jamo) == None: # 한글이 아닌 경우\n",
    "                print('>>>>>>> 한글없다: ', jamo)\n",
    "                \n",
    "            else:\n",
    "                output = decompose(jamo)\n",
    "                print('>>>>>>> 3 : ', output)\n",
    "                '''비어있는 종성에 표시해주는 코드 넣기'''\n",
    "                output_ = compose(output[0], output[1], output[2])\n",
    "                print('>>>>>>> 4 : ', output_)\n",
    "                # return output_\n",
    "    \n",
    "    return(output)\n",
    "\n",
    "print(microscope(data_cl[0]))"
   ]
  },
  {
   "cell_type": "code",
   "execution_count": 4,
   "metadata": {},
   "outputs": [
    {
     "name": "stdout",
     "output_type": "stream",
     "text": [
      ">>>>>> Your Input initially: 가나\n",
      ">>>>>> 1 : ['가나']\n",
      ">>>>>> 2 : ('ㄱ', 'ㅏ', ' ')\n",
      ">>>>>> 3 : 가\n",
      ">>>>>> 2 : ('ㄴ', 'ㅏ', ' ')\n",
      ">>>>>> 3 : 나\n"
     ]
    },
    {
     "data": {
      "text/plain": [
       "'가나'"
      ]
     },
     "execution_count": 4,
     "metadata": {},
     "output_type": "execute_result"
    }
   ],
   "source": [
    "from konlpy.tag import Mecab\n",
    "from soynlp.hangle import compose, decompose\n",
    "mecab = Mecab()\n",
    "\n",
    "test1 = '가나' ; test2 = '나다' ;test3 = '다라'\n",
    "def Yonghyun(input):\n",
    "    print(f'>>>>>> Your Input initially: {input}')\n",
    "    output = re.sub(' ', '_', input) # 띄어쓰기를 _로 대체\n",
    "    output = mecab.morphs(input)\n",
    "    print(f'>>>>>> 1 : {output}')\n",
    "\n",
    "\n",
    "    chr_idx = 0\n",
    "    original_input= ''\n",
    "    while chr_idx < len(input):\n",
    "        if re.match('[^ㄱ-ㅎㅏ-ㅣ가-힣_]', input[chr_idx]) is not None:\n",
    "            original_input += input[chr_idx]\n",
    "            chr_idx += len(input[chr_idx])\n",
    "        else: \n",
    "            for word in output:\n",
    "                for jamo in word:\n",
    "                    output_ = decompose(jamo)\n",
    "                    print(f'>>>>>> 2 : {output_}')\n",
    "                    \n",
    "                    \n",
    "                    try: \n",
    "                        recovered = compose(output_[0], output_[1], output_[2])\n",
    "                        chr_idx += 3\n",
    "                    except ValueError:\n",
    "                        if re.match('[ㄱ-ㅎ][ㅏ-ㅣ][ㄱ-ㅎ]', output_[1]) == None: # 중성이 없는 'ㅋ'\n",
    "                            recovered = output_[0]                            \n",
    "                            chr_idx += 3\n",
    "                        else:\n",
    "                            print('뭔가 이상함')\n",
    "                    \n",
    "                    print(f'>>>>>> 3 : {recovered}')\n",
    "                    original_input += recovered\n",
    "\n",
    "            original_input = re.sub('_', ' ', original_input)\n",
    "    return original_input\n",
    "\n",
    "Yonghyun(test1)"
   ]
  },
  {
   "cell_type": "code",
   "execution_count": 5,
   "metadata": {},
   "outputs": [
    {
     "name": "stdout",
     "output_type": "stream",
     "text": [
      ">>>>>> Your Input initially: 나다\n",
      ">>>>>> 1 : ['나', '다']\n",
      ">>>>>> 2 : ('ㄴ', 'ㅏ', ' ')\n",
      ">>>>>> 3 : 나\n",
      ">>>>>> 2 : ('ㄷ', 'ㅏ', ' ')\n",
      ">>>>>> 3 : 다\n"
     ]
    },
    {
     "data": {
      "text/plain": [
       "'나다'"
      ]
     },
     "execution_count": 5,
     "metadata": {},
     "output_type": "execute_result"
    }
   ],
   "source": [
    "Yonghyun(test2)"
   ]
  },
  {
   "cell_type": "code",
   "execution_count": 6,
   "metadata": {},
   "outputs": [
    {
     "name": "stdout",
     "output_type": "stream",
     "text": [
      ">>>>>> Your Input initially: 다라\n",
      ">>>>>> 1 : ['다라']\n",
      ">>>>>> 2 : ('ㄷ', 'ㅏ', ' ')\n",
      ">>>>>> 3 : 다\n",
      ">>>>>> 2 : ('ㄹ', 'ㅏ', ' ')\n",
      ">>>>>> 3 : 라\n"
     ]
    },
    {
     "data": {
      "text/plain": [
       "'다라'"
      ]
     },
     "execution_count": 6,
     "metadata": {},
     "output_type": "execute_result"
    }
   ],
   "source": [
    "Yonghyun(test3)"
   ]
  },
  {
   "cell_type": "code",
   "execution_count": 7,
   "metadata": {},
   "outputs": [
    {
     "name": "stdout",
     "output_type": "stream",
     "text": [
      ">>>>>> Your Input initially: 가나 다라 마바 사ㅋㅋ루삥뽕 상당히 가 떨리는 부분\n",
      ">>>>>> 1 : ['가', '나', '다라', '마', '바', '사', 'ㅋㅋ', '루', '삥', '뽕', '상당히', '가', '떨리', '는', '부분']\n",
      ">>>>>> 2 : ('ㄱ', 'ㅏ', ' ')\n",
      ">>>>>> 3 : 가\n",
      ">>>>>> 2 : ('ㄴ', 'ㅏ', ' ')\n",
      ">>>>>> 3 : 나\n",
      ">>>>>> 2 : ('ㄷ', 'ㅏ', ' ')\n",
      ">>>>>> 3 : 다\n",
      ">>>>>> 2 : ('ㄹ', 'ㅏ', ' ')\n",
      ">>>>>> 3 : 라\n",
      ">>>>>> 2 : ('ㅁ', 'ㅏ', ' ')\n",
      ">>>>>> 3 : 마\n",
      ">>>>>> 2 : ('ㅂ', 'ㅏ', ' ')\n",
      ">>>>>> 3 : 바\n",
      ">>>>>> 2 : ('ㅅ', 'ㅏ', ' ')\n",
      ">>>>>> 3 : 사\n",
      ">>>>>> 2 : ('ㅋ', ' ', ' ')\n",
      ">>>>>> 3 : ㅋ\n",
      ">>>>>> 2 : ('ㅋ', ' ', ' ')\n",
      ">>>>>> 3 : ㅋ\n",
      ">>>>>> 2 : ('ㄹ', 'ㅜ', ' ')\n",
      ">>>>>> 3 : 루\n",
      ">>>>>> 2 : ('ㅃ', 'ㅣ', 'ㅇ')\n",
      ">>>>>> 3 : 삥\n",
      ">>>>>> 2 : ('ㅃ', 'ㅗ', 'ㅇ')\n",
      ">>>>>> 3 : 뽕\n",
      ">>>>>> 2 : ('ㅅ', 'ㅏ', 'ㅇ')\n",
      ">>>>>> 3 : 상\n",
      ">>>>>> 2 : ('ㄷ', 'ㅏ', 'ㅇ')\n",
      ">>>>>> 3 : 당\n",
      ">>>>>> 2 : ('ㅎ', 'ㅣ', ' ')\n",
      ">>>>>> 3 : 히\n",
      ">>>>>> 2 : ('ㄱ', 'ㅏ', ' ')\n",
      ">>>>>> 3 : 가\n",
      ">>>>>> 2 : ('ㄸ', 'ㅓ', 'ㄹ')\n",
      ">>>>>> 3 : 떨\n",
      ">>>>>> 2 : ('ㄹ', 'ㅣ', ' ')\n",
      ">>>>>> 3 : 리\n",
      ">>>>>> 2 : ('ㄴ', 'ㅡ', 'ㄴ')\n",
      ">>>>>> 3 : 는\n",
      ">>>>>> 2 : ('ㅂ', 'ㅜ', ' ')\n",
      ">>>>>> 3 : 부\n",
      ">>>>>> 2 : ('ㅂ', 'ㅜ', 'ㄴ')\n",
      ">>>>>> 3 : 분\n"
     ]
    },
    {
     "data": {
      "text/plain": [
       "'가나다라마바사ㅋㅋ루삥뽕상당히가떨리는부분'"
      ]
     },
     "execution_count": 7,
     "metadata": {},
     "output_type": "execute_result"
    }
   ],
   "source": [
    "test4 = '가나 다라 마바 사ㅋㅋ루삥뽕 상당히 가 떨리는 부분'\n",
    "Yonghyun(test4)"
   ]
  },
  {
   "cell_type": "markdown",
   "metadata": {},
   "source": [
    "# 정제된 데이터에 대한 전체 토큰수, 글자 수 등의 기본적인 통계작업 및 출력"
   ]
  },
  {
   "cell_type": "markdown",
   "metadata": {},
   "source": [
    "### 정규표현을 사용하여\n",
    "1. **글자별로** (가, 갃, 마.. 등) 받침이 없는 글자를 찾아 빈도 순으로 출력\n",
    "2. **글자별로** 받침이 'ㄲ ㄳ ㄵ ㄶ ㄺ ㄻ ㄼ ㄽ ㄾ ㄿ ㅀ ㅄ ㅆ' 인 겹받침인 글자를 찾아 빈도순으로 출력\n",
    "(#주의 이 곁받침 글자들은 별도의 글자로 코드값이 할당되어 있음. 'ㄳ'은'ㄱㅅ'등의 연쇄가 아님. 정규표현식 사용에 주의 \n",
    "3. **어절별로** 'ㅅ' 으로 시작하고 'ㅇ'으로 끝나는 단어, 가령 '사랑' 을 찾고 그 빈도 순으로 출력\n",
    "4. 받침이 없는 글자로 이루어진 어절을 찾아 (예: 가자)그 빈도 순으로 출력\n",
    "5. 정규표현을 위해서는 자소분리된 단위를 사용하지만 그 결과를 출력할 때는 자소가 결합된 형태로 출력해야 함"
   ]
  },
  {
   "cell_type": "code",
   "execution_count": null,
   "metadata": {},
   "outputs": [],
   "source": []
  }
 ],
 "metadata": {
  "interpreter": {
   "hash": "0e7cc6c9e0688f13882f545a2e978df997152a3234a397a2d0b8069758700627"
  },
  "kernelspec": {
   "display_name": "Python 3",
   "language": "python",
   "name": "python3"
  },
  "language_info": {
   "codemirror_mode": {
    "name": "ipython",
    "version": 3
   },
   "file_extension": ".py",
   "mimetype": "text/x-python",
   "name": "python",
   "nbconvert_exporter": "python",
   "pygments_lexer": "ipython3",
   "version": "3.8.3"
  }
 },
 "nbformat": 4,
 "nbformat_minor": 4
}
